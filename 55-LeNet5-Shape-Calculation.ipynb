{
 "cells": [
  {
   "cell_type": "markdown",
   "metadata": {},
   "source": [
    "## LeNet5 Input Shape Calculation\n",
    "\n",
    "### [Link to my Youtube Video Explaining this whole Notebook](https://www.youtube.com/watch?v=ys3VRBW4qx8&list=PLxqBkZuBynVRyOJs4RWmB_fKlOVe5S8CR&index=10)\n",
    "\n",
    "[![Imgur](https://imgur.com/1SEnRQi.png)](https://www.youtube.com/watch?v=ys3VRBW4qx8&list=PLxqBkZuBynVRyOJs4RWmB_fKlOVe5S8CR&index=10)\n",
    "\n",
    "\n",
    "--------------------------\n",
    "\n",
    "### LeNet5 Architecture as per original paper\n",
    "\n",
    "![Imgur](https://imgur.com/P51KCHJ.png)\n",
    "\n",
    "------------\n",
    "\n",
    "## Formulae for calculating CNN Output shapes\n",
    "\n",
    "![Imgur](https://imgur.com/v9QLjHk.png)\n",
    "\n",
    "### For Pooling Layer the same formulae becomes\n",
    "\n",
    "![Imgur](https://imgur.com/ug3pqsb.png)"
   ]
  },
  {
   "cell_type": "markdown",
   "metadata": {},
   "source": [
    "### Actual Manual Calculation of Output Shapes from various Layers"
   ]
  },
  {
   "cell_type": "markdown",
   "metadata": {},
   "source": [
    "-------------------------\n",
    "\n",
    "## First Conv Layer\n",
    "\n",
    "Input Image = 32 * 32 * 1 .\n",
    "\n",
    "Convolution Layer 1 : K = 6 , S = 1 , P = 0 , kernel_size = 5*5.\n",
    "\n",
    "    Output Width  = ((input_width - kernel_width + 2 * padding) / stride ) + 1 .\n",
    "                  \n",
    "                  = (32 - 5 + 2 * 0) / 1 + 1 = 28 .\n",
    "\n",
    "    Output Height = (input_height - kernel_height + 2 * padding) / stride + 1 .\n",
    "                 \n",
    "                  = (32 - 5 + 2 * 0) / 1 + 1 = 28 .\n",
    "\n",
    "    Output Depth  = Number of kernels .\n",
    "                  = 6 ."
   ]
  },
  {
   "cell_type": "markdown",
   "metadata": {},
   "source": [
    "---------------------\n",
    "\n",
    "## First Pooling Layer\n",
    "\n",
    "Pooling Layer 1 : S = 2 , P = 0  , filter_size = 2 * 2. **Input Height and Width = 28**\n",
    "\n",
    "    Output Width  = (input_width - filter_width) / stride + 1 .\n",
    "                  = (28 - 2) / 2 + 1 = 14\n",
    "\n",
    "    Output Height = (input_height - filter_height) / stride + 1 .\n",
    "                  = (28 - 2) / 2 + 1 = 14\n",
    "\n",
    "    Output Depth  = The Same Depth .\n",
    "                  = 6 ."
   ]
  },
  {
   "cell_type": "markdown",
   "metadata": {},
   "source": [
    "-----------------------------\n",
    "\n",
    "## Second Conv Layer\n",
    "\n",
    "\n",
    "Convolution Layer 2 : K = 16 , S = 1 , P = 0 , kernel_size = 5*5. **Input Height and Width = 14**\n",
    "\n",
    "    Output Width  = (input_width - kernel_width + 2 * padding) / stride + 1 .\n",
    "                  = (14 - 5 + 2 * 0) / 1 + 1 = 10 .\n",
    "\n",
    "    Output Height = (input_height - kernel_height + 2 * padding) / stride + 1 .\n",
    "                  = (14 - 5 + 2 * 0) / 1 + 1 = 10 .\n",
    "\n",
    "    Output Depth  = 16 ."
   ]
  },
  {
   "cell_type": "markdown",
   "metadata": {},
   "source": [
    "-----------------------------\n",
    "\n",
    "## Second Pooling Layer\n",
    "\n",
    "\n",
    "Pooling Layer 2 : S = 2 , P = 0  , filter_size = 2 * 2. **Input Height and Width = 10**\n",
    "\n",
    "    Output Width  = (input_width - filter_width) / stride + 1 .\n",
    "                  \n",
    "                  = (10 - 2) / 2 + 1 = 5\n",
    "\n",
    "    Output Height = (input_height - filter_height) / stride + 1 .\n",
    "                  \n",
    "                  = (10 - 2) / 2 + 1 = 5\n",
    "\n",
    "    Output Depth  = 16 ."
   ]
  },
  {
   "cell_type": "markdown",
   "metadata": {},
   "source": [
    "-----------------------------\n",
    "\n",
    "## First Fully Connected Linear Layer\n",
    "\n",
    "Flatten Layer : S = 1 , P = 0 , K = 120 , kernel_size = 5*5 . Input Height and Width = 5\n",
    "\n",
    "    Output Width  = (input_width - filter_width) / stride + 1 .\n",
    "                  \n",
    "                  = (5 - 5) / 1 + 1 = 1\n",
    "\n",
    "    Output Height = (input_height - filter_height) / stride + 1 .\n",
    "                  = (5 - 5) / 1 + 1 = 1\n",
    "\n",
    "    Output Depth  = 120 .\n",
    "\n",
    "    Output Vector = Output Width * Output Height * Output Depth .\n",
    "                  = 1 * 1 * 120 .\n",
    "                  = 120 .\n"
   ]
  },
  {
   "cell_type": "markdown",
   "metadata": {},
   "source": [
    "## PyTorch Implementation of above LeNet5"
   ]
  },
  {
   "cell_type": "code",
   "execution_count": 2,
   "metadata": {},
   "outputs": [],
   "source": [
    "import torch\n",
    "import torch.nn as nn\n",
    "from torch.nn import Conv2d , AvgPool2d , Linear , Module\n",
    "import torch.nn.functional as F\n",
    "from torchsummary import summary"
   ]
  },
  {
   "cell_type": "code",
   "execution_count": 6,
   "metadata": {},
   "outputs": [],
   "source": [
    "class LeNet5(nn.Module):\n",
    "    def __init__(self,num_classes):\n",
    "        super(LeNet5,self).__init__()\n",
    "        \n",
    "        self.layer1 = nn.Sequential(\n",
    "            nn.Conv2d(in_channels=1, out_channels=6, kernel_size=(5,5), stride=(1,1), padding=(0,0)), #Layer 1\n",
    "            nn.BatchNorm2d(6),\n",
    "            nn.ReLU(),\n",
    "            nn.MaxPool2d(kernel_size=(2, 2), stride=(2)) #Layer-2\n",
    "        )                \n",
    "        \n",
    "        self.layer2 = nn.Sequential(\n",
    "            nn.Conv2d(in_channels=6, out_channels=16, kernel_size=(5,5), stride=(1,1), padding=(0,0)), #Layer 3\n",
    "            nn.BatchNorm2d(16),\n",
    "            nn.ReLU(),\n",
    "            nn.MaxPool2d(kernel_size=(2, 2), stride=(2,2)) #Layer 4\n",
    "        )\n",
    "        \n",
    "        self.fc = nn.Linear(400, 120) # Layer 5\n",
    "        self.relu = nn.ReLU()\n",
    "        \n",
    "        self.fc1 = nn.Linear(120, 84) # Layer 6\n",
    "        self.relu1 = nn.ReLU()\n",
    "        \n",
    "        self.fc2 = nn.Linear(84, num_classes) # Final Layer\n",
    "        \n",
    "    def forward(self, x):\n",
    "        output = self.layer1(x)\n",
    "        output = self.layer2(output)\n",
    "        # print('output after layer2', output.size()) # torch.Size([32, 16, 5, 5]\n",
    "        output = output.reshape(output.size(0), -1) # See note below for this line\n",
    "        # print('output after resize', output.size()) # torch.Size([32, 400])\n",
    "        output = self.fc(output)\n",
    "        output = self.relu(output)\n",
    "        output = self.fc1(output)\n",
    "        output = self.relu1(output)\n",
    "        output = self.fc2(output)\n",
    "        return output"
   ]
  },
  {
   "cell_type": "markdown",
   "metadata": {},
   "source": [
    "![Imgur](https://imgur.com/P51KCHJ.png)"
   ]
  },
  {
   "cell_type": "code",
   "execution_count": 7,
   "metadata": {},
   "outputs": [
    {
     "name": "stdout",
     "output_type": "stream",
     "text": [
      "----------------------------------------------------------------\n",
      "        Layer (type)               Output Shape         Param #\n",
      "================================================================\n",
      "            Conv2d-1            [-1, 6, 28, 28]             156\n",
      "       BatchNorm2d-2            [-1, 6, 28, 28]              12\n",
      "              ReLU-3            [-1, 6, 28, 28]               0\n",
      "         MaxPool2d-4            [-1, 6, 14, 14]               0\n",
      "            Conv2d-5           [-1, 16, 10, 10]           2,416\n",
      "       BatchNorm2d-6           [-1, 16, 10, 10]              32\n",
      "              ReLU-7           [-1, 16, 10, 10]               0\n",
      "         MaxPool2d-8             [-1, 16, 5, 5]               0\n",
      "            Linear-9                  [-1, 120]          48,120\n",
      "             ReLU-10                  [-1, 120]               0\n",
      "           Linear-11                   [-1, 84]          10,164\n",
      "             ReLU-12                   [-1, 84]               0\n",
      "           Linear-13                   [-1, 10]             850\n",
      "================================================================\n",
      "Total params: 61,750\n",
      "Trainable params: 61,750\n",
      "Non-trainable params: 0\n",
      "----------------------------------------------------------------\n",
      "Input size (MB): 0.00\n",
      "Forward/backward pass size (MB): 0.16\n",
      "Params size (MB): 0.24\n",
      "Estimated Total Size (MB): 0.40\n",
      "----------------------------------------------------------------\n"
     ]
    }
   ],
   "source": [
    "lenet = LeNet5(10)\n",
    "\n",
    "summary(lenet, input_size=(1, 32, 32), device='cpu')"
   ]
  }
 ],
 "metadata": {
  "interpreter": {
   "hash": "f9f85f796d01129d0dd105a088854619f454435301f6ffec2fea96ecbd9be4ac"
  },
  "kernelspec": {
   "display_name": "Python 3.9.10 64-bit",
   "language": "python",
   "name": "python3"
  },
  "language_info": {
   "codemirror_mode": {
    "name": "ipython",
    "version": 3
   },
   "file_extension": ".py",
   "mimetype": "text/x-python",
   "name": "python",
   "nbconvert_exporter": "python",
   "pygments_lexer": "ipython3",
   "version": "3.9.10"
  },
  "orig_nbformat": 4
 },
 "nbformat": 4,
 "nbformat_minor": 2
}
